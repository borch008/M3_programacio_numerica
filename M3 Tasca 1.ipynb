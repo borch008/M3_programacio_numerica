{
 "cells": [
  {
   "cell_type": "markdown",
   "id": "2809c8af",
   "metadata": {},
   "source": [
    "## Exercici 1\n",
    "\n",
    "*__Crea una funció que donat un Array d’una dimensió, et faci un resum estadístic bàsic de les dades. Si detecta que l’array té més d’una dimensió, ha de mostrar un missatge d’error.__*"
   ]
  },
  {
   "cell_type": "code",
   "execution_count": 6,
   "id": "1028f86b",
   "metadata": {},
   "outputs": [
    {
     "name": "stdout",
     "output_type": "stream",
     "text": [
      "La suma de tots els elements és 15\n",
      "El valor mínim és: 0\n",
      "El valor màxim és: 5\n",
      "La suma acumulativa és: [ 0  1  3  6 10 15]\n",
      "El valor mig és: 2.5\n",
      "La mitjana és: 2.5\n",
      "El coeficient de correlació és: 1.0\n"
     ]
    }
   ],
   "source": [
    "import numpy as np\n",
    "\n",
    "def resum(arr):\n",
    "    if arr.ndim == 1:\n",
    "        return True\n",
    "    else:\n",
    "        return False\n",
    "\n",
    "arr = np.array([0, 1, 2, 3, 4, 5])\n",
    "\n",
    "if resum(arr):\n",
    "    print(\"La suma de tots els elements és\", np.sum(arr))\n",
    "    print(\"El valor mínim és:\", np.min(arr))\n",
    "    print(\"El valor màxim és:\", np.max(arr, axis=0))\n",
    "    print(\"La suma acumulativa és:\", np.cumsum(arr, axis=0))\n",
    "    print(\"El valor mig és:\", np.mean(arr))\n",
    "    print(\"La mitjana és:\", np.median(arr))\n",
    "    print(\"El coeficient de correlació és:\", np.corrcoef(arr))\n",
    "else:\n",
    "    print(\"ERROR, aquesta array te més d'una dimensió\")"
   ]
  },
  {
   "cell_type": "markdown",
   "id": "edea0160",
   "metadata": {},
   "source": [
    "## Exercici 2\n",
    "\n",
    "*__Crea una funció que et generi un quadrat NxN de nombres aleatoris entre el 0 i el 100.__*"
   ]
  },
  {
   "cell_type": "code",
   "execution_count": 9,
   "id": "459e9734",
   "metadata": {},
   "outputs": [
    {
     "name": "stdout",
     "output_type": "stream",
     "text": [
      "[[ 6 17 74]\n",
      " [34 68 95]\n",
      " [68  1 95]]\n"
     ]
    }
   ],
   "source": [
    "from numpy import random\n",
    "def quadrat(a):\n",
    "    x = random.randint(100, size=(a, a))\n",
    "    print(x)\n",
    "\n",
    "quadrat(3)"
   ]
  },
  {
   "cell_type": "markdown",
   "id": "6cc96e25",
   "metadata": {},
   "source": [
    "## Exercici 3\n",
    "\n",
    "*__Crea una funció que donada una taula de dues dimensions (NxM), et calculi els totals per fila i els totals per columna.__*"
   ]
  },
  {
   "cell_type": "code",
   "execution_count": 22,
   "id": "6a782ee6",
   "metadata": {},
   "outputs": [
    {
     "name": "stdout",
     "output_type": "stream",
     "text": [
      "2\n",
      "[[1 2 3]\n",
      " [4 5 6]\n",
      " [7 8 9]]\n",
      "La suma total de les columnes és el següent: [12 15 18]\n",
      "La suma total de les files és el següent: [ 6 15 24]\n"
     ]
    }
   ],
   "source": [
    "def funcio(arr):\n",
    "    print(\"La suma total de les columnes és el següent:\", np.sum(arr, axis=0))\n",
    "    print(\"La suma total de les files és el següent:\", np.sum(arr, axis=1))\n",
    "    \n",
    "arr = np.array([[1, 2, 3], [4, 5, 6], [7, 8, 9]])\n",
    "print(arr)\n",
    "funcio(arr)"
   ]
  },
  {
   "cell_type": "markdown",
   "id": "4908ea95",
   "metadata": {},
   "source": [
    "## Exercici 4\n",
    "\n",
    "*__Implementa manualment una funció que calculi el coeficient de correlació. Informa-te'n sobre els seus usos i interpretació.__*"
   ]
  },
  {
   "cell_type": "code",
   "execution_count": null,
   "id": "d201932f",
   "metadata": {},
   "outputs": [],
   "source": [
    "'''\n",
    "La fórmula del coeficiente de correlación es la siguiente:\n",
    "r = Oxy/(Ox*Oy) \n",
    "Donde:\n",
    "r = coeficiente de correlación\n",
    "Oxy = covarianza = ((Suma de xy)/n(numero de muestras)) - Xm * Ym (medias de X y Y)\n",
    "Ox = desviación típica de x = Raiz cuadrada de la (suma de x^2/n) - Xm\n",
    "Oy = desviación típica de x = Raiz cuadrada de la (suma de y^2/n) - Xy\n",
    "\n"
   ]
  },
  {
   "cell_type": "code",
   "execution_count": 6,
   "id": "6822d54d",
   "metadata": {},
   "outputs": [
    {
     "name": "stdout",
     "output_type": "stream",
     "text": [
      "0.9922778767136677\n",
      "0.9922778767136676\n"
     ]
    }
   ],
   "source": [
    "import numpy as np\n",
    "def coef_corr(arr1, arr2):\n",
    "    n = len(arr1)\n",
    "    arr1_media = np.mean(arr1)\n",
    "    arr2_media = np.mean(arr2)\n",
    "    arr_multiplicación_suma = np.sum(arr1*arr2)\n",
    "    \n",
    "    covarianza = (arr_multiplicación_suma/n) - (arr1_media * arr2_media)\n",
    "    desviación_arr1 = (((np.sum(arr1**2)/n) - arr1_media**2)**0.5)\n",
    "    desviación_arr2 = (((np.sum(arr2**2)/n) - arr2_media**2)**0.5)\n",
    "    \n",
    "    return covarianza/(desviación_arr1*desviación_arr2)\n",
    "\n",
    "arr1 = np.array([1, 2, 3, 4])\n",
    "arr2 = np.array([3, 5, 6, 8])\n",
    "\n",
    "print(coef_corr(arr1, arr2))\n",
    "print(np.corrcoef(arr1, arr2)[0, 1]) #també pot ser [1, 0] -> comprobació"
   ]
  },
  {
   "cell_type": "code",
   "execution_count": null,
   "id": "18fef4e1",
   "metadata": {},
   "outputs": [],
   "source": [
    "'''\n",
    "La correlación trata de establecer la relación o dependencia que existe entre las dos variables que intervienen \n",
    "en una distribución bidimensional. Es decir, determinar si los cambios en una de las variables influyen en los cambios de la \n",
    "otra. En caso de que suceda, diremos que las variables están correlacionadas o que hay correlación entre ellas. \n",
    "La correlación es positiva cuando los valores de las variables aumenta juntos; y es negativa cuando un valor de una variable \n",
    "se reduce cuando el valor de la otra variable aumenta.\n",
    "'''\n",
    "\n"
   ]
  }
 ],
 "metadata": {
  "kernelspec": {
   "display_name": "Python 3 (ipykernel)",
   "language": "python",
   "name": "python3"
  },
  "language_info": {
   "codemirror_mode": {
    "name": "ipython",
    "version": 3
   },
   "file_extension": ".py",
   "mimetype": "text/x-python",
   "name": "python",
   "nbconvert_exporter": "python",
   "pygments_lexer": "ipython3",
   "version": "3.9.13"
  }
 },
 "nbformat": 4,
 "nbformat_minor": 5
}
